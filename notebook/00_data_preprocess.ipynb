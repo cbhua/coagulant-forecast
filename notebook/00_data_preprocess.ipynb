{
 "cells": [
  {
   "cell_type": "code",
   "execution_count": 15,
   "metadata": {},
   "outputs": [],
   "source": [
    "# Packages\n",
    "import numpy as np\n",
    "import pandas as pd"
   ]
  },
  {
   "attachments": {},
   "cell_type": "markdown",
   "metadata": {},
   "source": [
    "### ***Preprocess the minute-base ppm data***\n",
    "\n",
    "**NOTE** This notebook is used to preprocess the minute-base ppm data which is **different** with the origianl paper *\"Coagulant dosage determination using deep learning-based graph attention multivariate time series forecasting model\"* dataset. The data is collected by minutes.\n",
    "\n",
    "The original data is in Excel format. We first convert the data to Pandas DataFrame format, then we convert the data to Numpy format for fast process. The data is not normalized yet. We also seperatly save the DateTime to a numpy file for later use."
   ]
  },
  {
   "cell_type": "code",
   "execution_count": 8,
   "metadata": {},
   "outputs": [
    {
     "name": "stdout",
     "output_type": "stream",
     "text": [
      "(3086701, 12)\n",
      "                     Raw_Flow  Raw_Temp      Raw_EC  Raw_TB  Raw_Alk  Raw_pH   \n",
      "DateTime                                                                       \n",
      "2016-01-01 12:04:00   2375.00     8.900  188.053097   2.025    33.25  7.1750  \\\n",
      "2016-01-01 12:05:00   2375.00     8.875  188.191882   2.050    33.25  7.1750   \n",
      "2016-01-01 12:06:00   2383.75     8.875  188.191882   2.050    33.25  7.1785   \n",
      "2016-01-01 12:07:00   2376.25     8.875  188.560886   2.050    33.25  7.1785   \n",
      "2016-01-01 12:08:00   2382.50     8.875  188.191882   2.000    33.25  7.1750   \n",
      "\n",
      "                      Raw_TOC   PACS_PPM  Chl_Pre  Sed_Chl  Sed_TB  Chl_Mid  \n",
      "DateTime                                                                     \n",
      "2016-01-01 12:04:00  1.668937  13.721414     2.30     1.03    0.27      0.5  \n",
      "2016-01-01 12:05:00  1.668937  13.236815     2.28     1.04    0.27      0.5  \n",
      "2016-01-01 12:06:00  1.668937  12.605561     2.28     1.04    0.27      0.5  \n",
      "2016-01-01 12:07:00  1.668937  11.576227     2.29     1.04    0.27      0.5  \n",
      "2016-01-01 12:08:00  1.668937  11.600207     2.31     1.04    0.27      0.5  \n"
     ]
    }
   ],
   "source": [
    "# Print basic information\n",
    "df = pd.read_csv('../data/original/ppm.csv').set_index('DateTime')\n",
    "print(f'Original data size: {df.shape}')\n",
    "print(df.head())"
   ]
  },
  {
   "cell_type": "code",
   "execution_count": 33,
   "metadata": {},
   "outputs": [],
   "source": [
    "# Transfer to numpy file\n",
    "array = df.iloc[:, 1:].to_numpy()\n",
    "np.save('../data/ppm_process/ppm.npy', array)\n",
    "\n",
    "# Save datetime\n",
    "datetime = np.array(df.index, dtype='datetime64')\n",
    "np.save('../data/ppm_process/datetime.npy', datetime)"
   ]
  }
 ],
 "metadata": {
  "kernelspec": {
   "display_name": "coagulation",
   "language": "python",
   "name": "python3"
  },
  "language_info": {
   "codemirror_mode": {
    "name": "ipython",
    "version": 3
   },
   "file_extension": ".py",
   "mimetype": "text/x-python",
   "name": "python",
   "nbconvert_exporter": "python",
   "pygments_lexer": "ipython3",
   "version": "3.10.0"
  },
  "orig_nbformat": 4
 },
 "nbformat": 4,
 "nbformat_minor": 2
}
