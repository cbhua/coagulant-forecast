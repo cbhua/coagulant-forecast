{
 "cells": [
  {
   "cell_type": "code",
   "execution_count": 1,
   "metadata": {},
   "outputs": [],
   "source": [
    "# Packages\n",
    "import numpy as np\n",
    "import torch\n",
    "import torch.nn as nn\n",
    "import matplotlib.pyplot as plt\n",
    "from matplotlib import cm\n",
    "from tqdm import tqdm\n",
    "from torch.utils.data import Dataset, DataLoader"
   ]
  },
  {
   "attachments": {},
   "cell_type": "markdown",
   "metadata": {},
   "source": [
    "### ***Use LSTM to predict the minute based data***\n",
    "\n",
    "**NOTE** This notebook works on minute-base ppm data which is **different** with the origianl paper *\"Coagulant dosage determination using deep learning-based graph attention multivariate time series forecasting model\"* dataset. The data is collected by minutes."
   ]
  },
  {
   "cell_type": "code",
   "execution_count": 5,
   "metadata": {},
   "outputs": [],
   "source": [
    "# Parameters dataset\n",
    "batch_size = 32\n",
    "windows_size = 256\n",
    "\n",
    "# train_valid_split = int(3086701 * 0.8)\n",
    "# valid_test_split = int(3086701 * 0.9)\n",
    "\n",
    "train_valid_split = int(3086701 * 0.5)\n",
    "valid_test_split = int(3086701 * 0.7)\n",
    "\n",
    "# Parameters module\n",
    "input_dim = 9\n",
    "hidden_dim = 16\n",
    "output_dim = 1\n",
    "\n",
    "# Parameters train\n",
    "lr = 1e-3\n",
    "epoches = 10\n",
    "device = torch.device('cuda' if torch.cuda.is_available() else 'cpu')"
   ]
  },
  {
   "attachments": {},
   "cell_type": "markdown",
   "metadata": {},
   "source": [
    "#### ***1. Load data***\n",
    "\n",
    "Load minute-based data from `data/ppm_processed/ppm.npy` and `data/ppm_processed/datetime.npy`. The `ppm.npy` is a matrix with the size `[time_length, num_feature] = [3086701, 11]` contains all the data points of all `11` features.\n",
    "\n",
    "In this experiment setup, we use `'Raw_Flow', 'Raw_Temp', 'Raw_EC', 'Raw_TB', 'Raw_Alk', 'Raw_pH', 'Raw_TOC', 'Chl_Pre', 'Sed_Chl', 'Chl_Mid'` (all features except the `'Sed_TB', 'PACS_PPM`) features to predict the `'PACS_PPM` feature. \n",
    "\n",
    "We can have another experiment setup by using `'Raw_Flow', 'Raw_Temp', 'Raw_EC', 'Raw_TB', 'Raw_Alk', 'Raw_pH', 'Raw_TOC', 'Chl_Pre', 'Sed_Chl', 'Sed_TB', 'Chl_Mid', 'PACS_PPM` (all features except the `'Sed_TB'`) features to predic the `'Sed_TB'` feature."
   ]
  },
  {
   "cell_type": "code",
   "execution_count": 3,
   "metadata": {},
   "outputs": [
    {
     "name": "stdout",
     "output_type": "stream",
     "text": [
      "Data shape: (3086701, 11)\n",
      "Date time len: 3086701\n"
     ]
    }
   ],
   "source": [
    "# Load data\n",
    "data = np.load('../data/ppm_processed/ppm.npy', allow_pickle=True)\n",
    "print(f'Data shape: {data.shape}')\n",
    "\n",
    "# Split input and target\n",
    "data_inp = np.delete(data, [6, 9], axis=1) # Remove 'PACS_PPM' and 'Sed_TB'\n",
    "data_tar = data[:, 6:7] # 'PACS_PPM' feature\n",
    "\n",
    "# Normalize the data\n",
    "data_inp = (data_inp - np.min(data_inp, axis=0)) / (np.max(data_inp, axis=0) - np.min(data_inp, axis=0))\n",
    "data_tar = (data_tar - np.min(data_tar, axis=0)) / (np.max(data_tar, axis=0) - np.min(data_tar, axis=0))\n",
    "\n",
    "feature_name = ['Raw_Flow', 'Raw_Temp', 'Raw_EC', 'Raw_TB', 'Raw_Alk', 'Raw_pH', 'Raw_TOC', 'Chl_Pre', 'Sed_Chl', 'Chl_Mid']\n",
    "target_name = 'PACS_PPM'\n",
    "\n",
    "# Load datetime\n",
    "date_time = np.load('../data/ppm_processed/datetime.npy', allow_pickle=True)\n",
    "print(f'Date time len: {len(date_time)}')\n",
    "\n",
    "assert data.shape[0] == len(date_time)"
   ]
  },
  {
   "attachments": {},
   "cell_type": "markdown",
   "metadata": {},
   "source": [
    "#### ***2. Dataset and dataloader***\n",
    "\n",
    "Dataloader batch output size:\n",
    "- `inp`: `[batch_size, windows_size, num_feature]`\n",
    "- `tar`: `[batch_size, windows_size, 1]`\n",
    "\n",
    "In the first experiement setup, the dataloader batch output size would be :\n",
    "- `inp`: `[batch_size, windows_size, 9]`\n",
    "- `tar`: `[batch_size, windows_size, 1]`\n",
    "\n",
    "Note here we overlap the windows by `1` timestep, e.g., the first windows is from `0` to `windows_size`, the second windows is from `1` to `windows_size+1`, etc."
   ]
  },
  {
   "cell_type": "code",
   "execution_count": 4,
   "metadata": {},
   "outputs": [
    {
     "name": "stdout",
     "output_type": "stream",
     "text": [
      "Train dataloader length: 48222\n",
      "Valid dataloader length: 19284\n",
      "Input shape: torch.Size([32, 256, 9])\n",
      "Target shape: torch.Size([32, 256, 1])\n"
     ]
    }
   ],
   "source": [
    "# Dataset\n",
    "class WDataset(Dataset):\n",
    "    def __init__(self, data_inp, data_tar, windows_size):\n",
    "        self.data_inp = data_inp\n",
    "        self.data_tar = data_tar\n",
    "        self.windows_size = windows_size\n",
    "\n",
    "    def __len__(self):\n",
    "        return self.data_inp.shape[0] - self.windows_size\n",
    "\n",
    "    def __getitem__(self, idx):\n",
    "        '''\n",
    "        Return:\n",
    "            - inp <torch.Tensor> [windows_size, feature_size]\n",
    "            - tar <torch.Tensor> [windows_size]\n",
    "        '''\n",
    "        inp = self.data_inp[idx:idx+self.windows_size]\n",
    "        tar = self.data_tar[idx:idx+self.windows_size]\n",
    "        return inp, tar\n",
    "\n",
    "train_set = WDataset(data_inp[:train_valid_split], data_tar[:train_valid_split], windows_size=windows_size)\n",
    "valid_set = WDataset(data_inp[train_valid_split:valid_test_split], data_tar[train_valid_split:valid_test_split], windows_size=windows_size)\n",
    "test_set  = WDataset(data_inp[valid_test_split:], data_tar[valid_test_split:], windows_size=windows_size)\n",
    "\n",
    "train_loader = DataLoader(train_set, batch_size=batch_size, shuffle=True)\n",
    "valid_loader = DataLoader(valid_set, batch_size=batch_size, shuffle=False)\n",
    "test_loader  = DataLoader(test_set, batch_size=batch_size, shuffle=False)\n",
    "\n",
    "# Create a no shuffle dataloader for visualization\n",
    "train_loader_no_shuffle = DataLoader(train_set, batch_size=batch_size, shuffle=False)\n",
    "\n",
    "# Test the dataloder\n",
    "inp, tar = next(iter(train_loader))\n",
    "print(f'Train dataloader length: {len(train_loader)}')\n",
    "print(f'Valid dataloader length: {len(valid_loader)}')\n",
    "print(f'Input shape: {inp.shape}')\n",
    "print(f'Target shape: {tar.shape}')"
   ]
  },
  {
   "attachments": {},
   "cell_type": "markdown",
   "metadata": {},
   "source": [
    "#### ***3. Init Module***\n",
    "\n",
    "Here we are going to test four modules:\n",
    "\n",
    "1. `LSTM` module\n",
    "2. `1D CNN + LSTM` module\n",
    "3. `Attention + LSTM` module\n",
    "3. `1D CNN + Attention + LSTM` module"
   ]
  },
  {
   "cell_type": "code",
   "execution_count": 9,
   "metadata": {},
   "outputs": [
    {
     "name": "stderr",
     "output_type": "stream",
     "text": [
      "/home/cbhua/miniconda3/envs/coagulation/lib/python3.10/site-packages/torch/nn/modules/rnn.py:71: UserWarning: dropout option adds dropout after all but last recurrent layer, so non-zero dropout expects num_layers greater than 1, but got dropout=0.2 and num_layers=1\n",
      "  warnings.warn(\"dropout option adds dropout after all but last \"\n"
     ]
    }
   ],
   "source": [
    "# Init module - LSTM\n",
    "class CNNLSTM(nn.Module):\n",
    "    def __init__(self, input_dim, hidden_dim, output_dim, num_layer, dropout_prob):\n",
    "        ''' Pure LSTM model for multi-variate time series regression '''\n",
    "        super(CNNLSTM, self).__init__()\n",
    "        self.cnn = nn.Conv1d(\n",
    "            in_channels=input_dim, \n",
    "            out_channels=hidden_dim,\n",
    "            kernel_size=5, \n",
    "            stride=1,\n",
    "            padding=2)\n",
    "        self.lstm = nn.LSTM(\n",
    "            hidden_dim, \n",
    "            output_dim, \n",
    "            num_layer, \n",
    "            batch_first=True, \n",
    "            dropout=dropout_prob\n",
    "        )\n",
    "\n",
    "    def forward(self, x):\n",
    "        # NOTE: h0, c0 is not necessary as input if we want to init them to zero\n",
    "        x = self.cnn(x.transpose(1, 2)).transpose(1, 2)\n",
    "        out, _ = self.lstm(x)\n",
    "        return out\n",
    "\n",
    "\n",
    "model = CNNLSTM(input_dim, hidden_dim, output_dim, num_layer=1, dropout_prob=0.2).to(device)\n",
    "criterion = nn.MSELoss()\n",
    "optimizer = torch.optim.Adam(model.parameters(), lr=lr)"
   ]
  },
  {
   "cell_type": "code",
   "execution_count": 10,
   "metadata": {},
   "outputs": [
    {
     "name": "stderr",
     "output_type": "stream",
     "text": [
      "100%|██████████| 10/10 [10:24<00:00, 62.41s/it]\n"
     ]
    }
   ],
   "source": [
    "# Train model\n",
    "epoch_train_loss = []\n",
    "epoch_valid_loss = []\n",
    "for epoch in tqdm(range(epoches)):\n",
    "    iter_loss = []\n",
    "\n",
    "    # SECTION - Train\n",
    "    model.train()\n",
    "    for idx, (inp, tar) in enumerate(train_loader):\n",
    "        inp = inp.to(device, dtype=torch.float32)\n",
    "        tar = tar.to(device, dtype=torch.float32)\n",
    "        out = model(inp)\n",
    "\n",
    "        optimizer.zero_grad()\n",
    "        loss = criterion(tar, out)\n",
    "        loss.backward()\n",
    "        optimizer.step()\n",
    "\n",
    "        iter_loss.append(loss.to('cpu').item())\n",
    "    epoch_train_loss.append(sum(iter_loss)/len(iter_loss))\n",
    "\n",
    "    # SECTION: Valid\n",
    "    if epoch % 10 == 0:\n",
    "        with torch.no_grad():\n",
    "            iter_loss = []\n",
    "            model.eval()\n",
    "            for idx, (inp, tar) in enumerate(valid_loader):\n",
    "                inp = inp.to(device, dtype=torch.float32)\n",
    "                tar = tar.to(device, dtype=torch.float32)\n",
    "                out = model(inp)\n",
    "\n",
    "                loss = criterion(tar, out)\n",
    "                iter_loss.append(loss.to('cpu').item())\n",
    "            epoch_valid_loss.append(sum(iter_loss)/len(iter_loss))"
   ]
  },
  {
   "cell_type": "code",
   "execution_count": 11,
   "metadata": {},
   "outputs": [
    {
     "data": {
      "image/png": "[encoded data removed]",
      "text/plain": [
       "<Figure size 400x300 with 1 Axes>"
      ]
     },
     "metadata": {},
     "output_type": "display_data"
    }
   ],
   "source": [
    "fig, ax = plt.subplots(1, figsize=(4, 3))\n",
    "\n",
    "ax.plot(epoch_train_loss, label='Train Loss', color=cm.Set2(0), marker='^', lw=1)\n",
    "ax.set_xlabel('Epoch', fontsize=12)\n",
    "ax.set_ylabel('Loss', fontsize=12)\n",
    "ax.ticklabel_format(axis='y', style='sci', scilimits=(0,0))\n",
    "ax.grid(axis='both', color='black', alpha=0.1)\n",
    "ax.tick_params(axis='both', which='major', labelsize=10)\n",
    "\n",
    "plt.tight_layout()"
   ]
  },
  {
   "cell_type": "code",
   "execution_count": 19,
   "metadata": {},
   "outputs": [],
   "source": [
    "# Save the model\n",
    "torch.save(model.state_dict(), '../checkpoint/cnn_lstm_ep10.pt')"
   ]
  },
  {
   "cell_type": "code",
   "execution_count": 12,
   "metadata": {},
   "outputs": [],
   "source": [
    "# Visualize the result on train and valid set\n",
    "model.eval()\n",
    "\n",
    "gt = []\n",
    "pred = []\n",
    "\n",
    "for idx, (inp, tar) in enumerate(train_loader_no_shuffle):\n",
    "    inp = inp.to(device, dtype=torch.float32)\n",
    "    tar = tar.to(device, dtype=torch.float32)\n",
    "    out = model(inp)\n",
    "\n",
    "    gt.append(tar[:, -1, 0].detach().cpu())\n",
    "    pred.append(out[:, -1, 0].detach().cpu())\n",
    "\n",
    "gt = torch.concatenate(gt, dim=0)\n",
    "pred = torch.concatenate(pred, dim=0)"
   ]
  },
  {
   "cell_type": "code",
   "execution_count": 16,
   "metadata": {},
   "outputs": [
    {
     "data": {
      "image/png": "[encoded data removed]",
      "text/plain": [
       "<Figure size 600x300 with 1 Axes>"
      ]
     },
     "metadata": {},
     "output_type": "display_data"
    }
   ],
   "source": [
    "fig, ax = plt.subplots(1, figsize=(6, 3))\n",
    "\n",
    "ax.plot(gt, label='Ground Truth', color=cm.Set2(0), lw=1, alpha=0.9)\n",
    "ax.plot(pred, label='Prediction', color=cm.Set2(1), lw=1, alpha=0.9)\n",
    "ax.set_xlabel('Time', fontsize=12)\n",
    "ax.set_ylabel('PACS PPM', fontsize=12)\n",
    "ax.set_title('CNN-LSTM Train', fontsize=12)\n",
    "ax.ticklabel_format(axis='y', style='sci', scilimits=(0,0))\n",
    "ax.grid(axis='both', color='black', alpha=0.1)\n",
    "ax.tick_params(axis='both', which='major', labelsize=10)\n",
    "\n",
    "plt.tight_layout()\n",
    "plt.savefig('../fig/ppm/cnn_lstm_train.png', dpi=300)"
   ]
  },
  {
   "cell_type": "code",
   "execution_count": 15,
   "metadata": {},
   "outputs": [
    {
     "name": "stdout",
     "output_type": "stream",
     "text": [
      "MSE: 0.0007662700954824686, RMSE: 0.0276815840493724, R2: 0.9187128167647062, Pearson correlation: 0.9587824835292362\n"
     ]
    }
   ],
   "source": [
    "# Calculate multi measurement metrics\n",
    "from math import sqrt\n",
    "from scipy.stats import pearsonr\n",
    "from sklearn.metrics import r2_score\n",
    "from sklearn.metrics import mean_squared_error\n",
    "\n",
    "mse = mean_squared_error(gt, pred)\n",
    "rmse = sqrt(mean_squared_error(gt, pred))\n",
    "r2 = r2_score(gt, pred)\n",
    "corr, _ = pearsonr(gt, pred)\n",
    "\n",
    "print(f'MSE: {mse}, RMSE: {rmse}, R2: {r2}, Pearson correlation: {corr}')"
   ]
  }
 ],
 "metadata": {
  "kernelspec": {
   "display_name": "coagulation",
   "language": "python",
   "name": "python3"
  },
  "language_info": {
   "codemirror_mode": {
    "name": "ipython",
    "version": 3
   },
   "file_extension": ".py",
   "mimetype": "text/x-python",
   "name": "python",
   "nbconvert_exporter": "python",
   "pygments_lexer": "ipython3",
   "version": "3.10.0"
  },
  "orig_nbformat": 4
 },
 "nbformat": 4,
 "nbformat_minor": 2
}
